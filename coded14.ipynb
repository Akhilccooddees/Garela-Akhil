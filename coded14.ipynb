{
  "nbformat": 4,
  "nbformat_minor": 0,
  "metadata": {
    "colab": {
      "provenance": [],
      "authorship_tag": "ABX9TyNJD9+fphWqf3YuDc35Rx5h",
      "include_colab_link": true
    },
    "kernelspec": {
      "name": "python3",
      "display_name": "Python 3"
    },
    "language_info": {
      "name": "python"
    }
  },
  "cells": [
    {
      "cell_type": "markdown",
      "metadata": {
        "id": "view-in-github",
        "colab_type": "text"
      },
      "source": [
        "<a href=\"https://colab.research.google.com/github/Akhilccooddees/Garela-Akhil/blob/main/coded14.ipynb\" target=\"_parent\"><img src=\"https://colab.research.google.com/assets/colab-badge.svg\" alt=\"Open In Colab\"/></a>"
      ]
    },
    {
      "cell_type": "code",
      "execution_count": 1,
      "metadata": {
        "colab": {
          "base_uri": "https://localhost:8080/"
        },
        "id": "mdSOPEqwYLad",
        "outputId": "2d408d4f-97a2-43ec-86eb-b8c8b53a8b49"
      },
      "outputs": [
        {
          "output_type": "stream",
          "name": "stdout",
          "text": [
            "Enter the number of processes: 5\n",
            "Enter the Burst Time of the processes:\n",
            "P1: 4\n",
            "P2: 3\n",
            "P3: 2\n",
            "P4: 5\n",
            "P5: 6\n",
            "P B_T W_T TA_T\n",
            "P3 2 0 2\n",
            "P2 3 2 5\n",
            "P1 4 5 9\n",
            "P4 5 9 14\n",
            "P5 6 14 20\n",
            "The average Waiting Time of the whole sequence of processes is = 6.0\n",
            "The average Turn Around Time of the processes is = 10.0\n"
          ]
        }
      ],
      "source": [
        "# Python program to implement the Shortest Job First algorithm\n",
        "\n",
        "# Taking the input of the number of processes\n",
        "n = int(input(\"Enter the number of processes: \"))\n",
        "\n",
        "# Creating a matrix for storing the Process Id, Burst Time of each process, Average Waiting Time, and the Average Turn Around Time according to the provided burst times.\n",
        "mat = [[0 for j in range(4)] for i in range(n)]\n",
        "t, avg_wttime, avg_tatime = 0, 0, 0\n",
        "print(\"Enter the Burst Time of the processes:\")\n",
        "\n",
        "# Taking the input of the burst times of the processes\n",
        "# Alloting process Ids to each process\n",
        "for i in range(n):\n",
        "  mat[i][1] = int(input(f\"P{i + 1}: \"))\n",
        "  mat[i][0] = i + 1\n",
        "\n",
        "# Sorting the processes that we stored above according to their burst time\n",
        "for i in range(n):\n",
        "  ind = i\n",
        "  for j in range(i + 1, n):\n",
        "    if mat[j][1] < mat[ind][1]:\n",
        "      ind = j\n",
        "  a = mat[i][1]\n",
        "  mat[i][1] = mat[ind][1]\n",
        "  mat[ind][1] = a\n",
        "  a = mat[i][0]\n",
        "  mat[i][0] = mat[ind][0]\n",
        "  mat[ind][0] = a\n",
        "\n",
        "# Calculating the waiting times of the processes\n",
        "mat[0][2] = 0\n",
        "for i in range(1, n):\n",
        "  mat[i][2] = 0\n",
        "  for j in range(i):\n",
        "    mat[i][2] += mat[j][1]\n",
        "  t += mat[i][2]\n",
        "avg_wtime = t / n\n",
        "t = 0\n",
        "# Calculating the Turn Around Time for each process\n",
        "\n",
        "# Printing the data in the table form\n",
        "print(\"P B_T W_T TA_T\")\n",
        "for i in range(n):\n",
        "  mat[i][3] = mat[i][1] + mat[i][2]\n",
        "  t += mat[i][3]\n",
        "  print(f\"P{mat[i][0]} {mat[i][1]} {mat[i][2]} {mat[i][3]}\")\n",
        "avg_tatime = t / n\n",
        "print(f\"The average Waiting Time of the whole sequence of processes is = {avg_wtime}\")\n",
        "print(f\"The average Turn Around Time of the processes is = {avg_tatime}\")"
      ]
    }
  ]
}